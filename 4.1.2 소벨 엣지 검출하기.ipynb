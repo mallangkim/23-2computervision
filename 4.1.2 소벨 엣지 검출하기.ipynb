{
 "cells": [
  {
   "cell_type": "markdown",
   "id": "ec11338b",
   "metadata": {},
   "source": [
    "## 4.1.2 소벨 엣지 검출하기"
   ]
  },
  {
   "cell_type": "code",
   "execution_count": 1,
   "id": "beb9668c",
   "metadata": {},
   "outputs": [],
   "source": [
    "import cv2"
   ]
  },
  {
   "cell_type": "code",
   "execution_count": 4,
   "id": "ceeeaf46",
   "metadata": {},
   "outputs": [],
   "source": [
    "img = cv2.imread(\"soccer.jpg\")\n",
    "gray = cv2.cvtColor(img, cv2.COLOR_BGR2GRAY)\n",
    "\n",
    "grad_x = cv2.Sobel(gray, cv2.CV_32F, 1, 0, ksize=3)  # 소벨 연산자 적용\n",
    "grad_y = cv2.Sobel(gray, cv2.CV_32F, 0, 1, ksize=3)\n",
    "\n",
    "sobel_x = cv2.convertScaleAbs(grad_x)  # 절대값을 취해 양수 영상으로 변환\n",
    "sobel_y = cv2.convertScaleAbs(grad_y)\n",
    "\n",
    "edge_strength = cv2.addWeighted(sobel_x, 0.5, sobel_y, 0.5, 0)  # 에지 강도 계산\n",
    "\n",
    "cv2.imshow(\"Original\", gray)\n",
    "cv2.imshow(\"sobelx\", sobel_x)\n",
    "cv2.imshow(\"sobely\", sobel_y)\n",
    "cv2.imshow(\"edge strength\", edge_strength)\n",
    "\n",
    "cv2.waitKey()\n",
    "cv2.destroyAllWindows()"
   ]
  }
 ],
 "metadata": {
  "kernelspec": {
   "display_name": "Python 3 (ipykernel)",
   "language": "python",
   "name": "python3"
  },
  "language_info": {
   "codemirror_mode": {
    "name": "ipython",
    "version": 3
   },
   "file_extension": ".py",
   "mimetype": "text/x-python",
   "name": "python",
   "nbconvert_exporter": "python",
   "pygments_lexer": "ipython3",
   "version": "3.10.7"
  }
 },
 "nbformat": 4,
 "nbformat_minor": 5
}
