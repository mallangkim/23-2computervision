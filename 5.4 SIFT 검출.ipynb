{
 "cells": [
  {
   "cell_type": "markdown",
   "id": "8b26a048",
   "metadata": {},
   "source": [
    "## 5.4 SIFT 검출"
   ]
  },
  {
   "cell_type": "code",
   "execution_count": 1,
   "id": "d0eb75fd",
   "metadata": {},
   "outputs": [],
   "source": [
    "import cv2"
   ]
  },
  {
   "cell_type": "code",
   "execution_count": 2,
   "id": "cd348832",
   "metadata": {},
   "outputs": [],
   "source": [
    "img = cv2.imread(\"mot_color70.jpg\")  # 영상 읽기\n",
    "gray = cv2.cvtColor(img, cv2.COLOR_BGR2GRAY)\n",
    "\n",
    "sift = cv2.SIFT_create()\n",
    "kp, des = sift.detectAndCompute(gray, None)\n",
    "\n",
    "gray = cv2.drawKeypoints(gray, kp, None, flags=cv2.DRAW_MATCHES_FLAGS_DRAW_RICH_KEYPOINTS)\n",
    "cv2.imshow(\"sift\", gray)\n",
    "\n",
    "k = cv2.waitKey()\n",
    "cv2.destroyAllWindows()"
   ]
  }
 ],
 "metadata": {
  "kernelspec": {
   "display_name": "Python 3 (ipykernel)",
   "language": "python",
   "name": "python3"
  },
  "language_info": {
   "codemirror_mode": {
    "name": "ipython",
    "version": 3
   },
   "file_extension": ".py",
   "mimetype": "text/x-python",
   "name": "python",
   "nbconvert_exporter": "python",
   "pygments_lexer": "ipython3",
   "version": "3.10.7"
  }
 },
 "nbformat": 4,
 "nbformat_minor": 5
}
