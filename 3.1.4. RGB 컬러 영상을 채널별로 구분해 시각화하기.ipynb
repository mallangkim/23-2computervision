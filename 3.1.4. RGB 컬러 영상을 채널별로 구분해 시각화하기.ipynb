{
 "cells": [
  {
   "cell_type": "markdown",
   "id": "5a7a9910",
   "metadata": {},
   "source": [
    "## 3.1.4. RGB 컬러 영상을 채널별로 구분해 시각화하기"
   ]
  },
  {
   "cell_type": "code",
   "execution_count": 1,
   "id": "d2efdc3f",
   "metadata": {
    "scrolled": false
   },
   "outputs": [
    {
     "name": "stdout",
     "output_type": "stream",
     "text": [
      "Requirement already satisfied: opencv-python in c:\\users\\administrator\\appdata\\local\\programs\\python\\python310\\lib\\site-packages (4.8.1.78)\n",
      "Requirement already satisfied: numpy>=1.21.2 in c:\\users\\administrator\\appdata\\local\\programs\\python\\python310\\lib\\site-packages (from opencv-python) (1.23.3)\n"
     ]
    }
   ],
   "source": [
    "!pip install opencv-python"
   ]
  },
  {
   "cell_type": "code",
   "execution_count": 11,
   "id": "fb824fc4",
   "metadata": {
    "scrolled": false
   },
   "outputs": [
    {
     "data": {
      "text/plain": [
       "'4.8.1'"
      ]
     },
     "execution_count": 11,
     "metadata": {},
     "output_type": "execute_result"
    }
   ],
   "source": [
    "cv2.__version__"
   ]
  },
  {
   "cell_type": "code",
   "execution_count": 4,
   "id": "c3458942",
   "metadata": {},
   "outputs": [],
   "source": [
    "import cv2\n",
    "import sys"
   ]
  },
  {
   "cell_type": "code",
   "execution_count": 5,
   "id": "89460d5c",
   "metadata": {},
   "outputs": [],
   "source": [
    "img_source = \"soccer.jpg\"\n",
    "\n",
    "img = cv2.imread(img_source)\n",
    "\n",
    "if img is None:\n",
    "    sys.exit(\"파일을 찾을 수 없습니다.\")\n",
    "\n",
    "cv2.imshow('original_RGB',img)\n",
    "cv2.imshow(\"Upper left half\", img[0 : img.shape[0] // 2, 0 : img.shape[1] // 2, :])\n",
    "cv2.imshow(\n",
    "    \"Center half\",\n",
    "    img[\n",
    "        img.shape[0] // 4 : 3 * img.shape[0] // 4,\n",
    "        img.shape[1] // 4 : 3 * img.shape[1] // 4,\n",
    "        :,\n",
    "    ],\n",
    ")\n",
    "\n",
    "cv2.imshow(\"R channel\", img[:, :, 2])\n",
    "cv2.imshow(\"G channel\", img[:, :, 1])\n",
    "cv2.imshow(\"B channel\", img[:, :, 0])\n",
    "\n",
    "\n",
    "cv2.waitKey()\n",
    "cv2.destroyAllWindows()"
   ]
  }
 ],
 "metadata": {
  "kernelspec": {
   "display_name": "Python 3 (ipykernel)",
   "language": "python",
   "name": "python3"
  },
  "language_info": {
   "codemirror_mode": {
    "name": "ipython",
    "version": 3
   },
   "file_extension": ".py",
   "mimetype": "text/x-python",
   "name": "python",
   "nbconvert_exporter": "python",
   "pygments_lexer": "ipython3",
   "version": "3.10.7"
  }
 },
 "nbformat": 4,
 "nbformat_minor": 5
}
