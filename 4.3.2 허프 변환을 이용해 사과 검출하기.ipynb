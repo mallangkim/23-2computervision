{
 "cells": [
  {
   "cell_type": "markdown",
   "id": "dd5a9002",
   "metadata": {},
   "source": [
    "## 4.3.2 허프 변환을 이용해 사과 검출하기"
   ]
  },
  {
   "cell_type": "code",
   "execution_count": 1,
   "id": "3bc857c2",
   "metadata": {},
   "outputs": [],
   "source": [
    "import cv2"
   ]
  },
  {
   "cell_type": "code",
   "execution_count": 2,
   "id": "aac3b8de",
   "metadata": {},
   "outputs": [],
   "source": [
    "img = cv2.imread(\"apples.jpg\")\n",
    "gray = cv2.cvtColor(img, cv2.COLOR_BGR2GRAY)\n",
    "\n",
    "apples = cv2.HoughCircles(\n",
    "    gray, cv2.HOUGH_GRADIENT, 1, 200, param1=150, param2=20, minRadius=50, maxRadius=120\n",
    ")\n",
    "\n",
    "for i in apples[0]:\n",
    "    cv2.circle(img, (int(i[0]), int(i[1])), int(i[2]), (255, 0, 0), 2)\n",
    "\n",
    "cv2.imshow(\"Apple detection\", img)\n",
    "\n",
    "cv2.waitKey()\n",
    "cv2.destroyAllWindows()"
   ]
  }
 ],
 "metadata": {
  "kernelspec": {
   "display_name": "Python 3 (ipykernel)",
   "language": "python",
   "name": "python3"
  },
  "language_info": {
   "codemirror_mode": {
    "name": "ipython",
    "version": 3
   },
   "file_extension": ".py",
   "mimetype": "text/x-python",
   "name": "python",
   "nbconvert_exporter": "python",
   "pygments_lexer": "ipython3",
   "version": "3.10.7"
  }
 },
 "nbformat": 4,
 "nbformat_minor": 5
}
