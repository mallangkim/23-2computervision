{
 "cells": [
  {
   "cell_type": "markdown",
   "id": "075dea42",
   "metadata": {},
   "source": [
    "## 4.4.3 정규화 절단 알고리즘으로 영역 분할하기"
   ]
  },
  {
   "cell_type": "code",
   "execution_count": 17,
   "id": "9d487c87",
   "metadata": {},
   "outputs": [
    {
     "name": "stdout",
     "output_type": "stream",
     "text": [
      "Requirement already satisfied: scikit-image in c:\\users\\administrator\\appdata\\local\\programs\\python\\python310\\lib\\site-packages (0.22.0)\n",
      "Requirement already satisfied: numpy>=1.22 in c:\\users\\administrator\\appdata\\local\\programs\\python\\python310\\lib\\site-packages (from scikit-image) (1.23.3)\n",
      "Requirement already satisfied: scipy>=1.8 in c:\\users\\administrator\\appdata\\local\\programs\\python\\python310\\lib\\site-packages (from scikit-image) (1.9.1)\n",
      "Requirement already satisfied: networkx>=2.8 in c:\\users\\administrator\\appdata\\local\\programs\\python\\python310\\lib\\site-packages (from scikit-image) (3.2.1)\n",
      "Requirement already satisfied: pillow>=9.0.1 in c:\\users\\administrator\\appdata\\local\\programs\\python\\python310\\lib\\site-packages (from scikit-image) (9.2.0)\n",
      "Requirement already satisfied: imageio>=2.27 in c:\\users\\administrator\\appdata\\local\\programs\\python\\python310\\lib\\site-packages (from scikit-image) (2.32.0)\n",
      "Requirement already satisfied: tifffile>=2022.8.12 in c:\\users\\administrator\\appdata\\local\\programs\\python\\python310\\lib\\site-packages (from scikit-image) (2023.9.26)\n",
      "Requirement already satisfied: packaging>=21 in c:\\users\\administrator\\appdata\\local\\programs\\python\\python310\\lib\\site-packages (from scikit-image) (21.3)\n",
      "Requirement already satisfied: lazy_loader>=0.3 in c:\\users\\administrator\\appdata\\local\\programs\\python\\python310\\lib\\site-packages (from scikit-image) (0.3)\n",
      "Requirement already satisfied: pyparsing!=3.0.5,>=2.0.2 in c:\\users\\administrator\\appdata\\local\\programs\\python\\python310\\lib\\site-packages (from packaging>=21->scikit-image) (3.0.9)\n"
     ]
    }
   ],
   "source": [
    "!pip3 install scikit-image"
   ]
  },
  {
   "cell_type": "code",
   "execution_count": 26,
   "id": "9bf72d53",
   "metadata": {},
   "outputs": [
    {
     "name": "stdout",
     "output_type": "stream",
     "text": [
      "Requirement already satisfied: scikit-image in c:\\users\\administrator\\appdata\\local\\programs\\python\\python310\\lib\\site-packages (0.22.0)\n",
      "Requirement already satisfied: numpy>=1.22 in c:\\users\\administrator\\appdata\\local\\programs\\python\\python310\\lib\\site-packages (from scikit-image) (1.23.3)\n",
      "Requirement already satisfied: scipy>=1.8 in c:\\users\\administrator\\appdata\\local\\programs\\python\\python310\\lib\\site-packages (from scikit-image) (1.9.1)\n",
      "Requirement already satisfied: networkx>=2.8 in c:\\users\\administrator\\appdata\\local\\programs\\python\\python310\\lib\\site-packages (from scikit-image) (3.2.1)\n",
      "Requirement already satisfied: pillow>=9.0.1 in c:\\users\\administrator\\appdata\\local\\programs\\python\\python310\\lib\\site-packages (from scikit-image) (9.2.0)\n",
      "Requirement already satisfied: imageio>=2.27 in c:\\users\\administrator\\appdata\\local\\programs\\python\\python310\\lib\\site-packages (from scikit-image) (2.32.0)\n",
      "Requirement already satisfied: tifffile>=2022.8.12 in c:\\users\\administrator\\appdata\\local\\programs\\python\\python310\\lib\\site-packages (from scikit-image) (2023.9.26)\n",
      "Requirement already satisfied: packaging>=21 in c:\\users\\administrator\\appdata\\local\\programs\\python\\python310\\lib\\site-packages (from scikit-image) (21.3)\n",
      "Requirement already satisfied: lazy_loader>=0.3 in c:\\users\\administrator\\appdata\\local\\programs\\python\\python310\\lib\\site-packages (from scikit-image) (0.3)\n",
      "Requirement already satisfied: pyparsing!=3.0.5,>=2.0.2 in c:\\users\\administrator\\appdata\\local\\programs\\python\\python310\\lib\\site-packages (from packaging>=21->scikit-image) (3.0.9)\n"
     ]
    }
   ],
   "source": [
    "!pip3 install scikit-image --user"
   ]
  },
  {
   "cell_type": "code",
   "execution_count": 25,
   "id": "e7f12cdc",
   "metadata": {
    "scrolled": true
   },
   "outputs": [
    {
     "ename": "ModuleNotFoundError",
     "evalue": "No module named 'skimage.util.dtype'",
     "output_type": "error",
     "traceback": [
      "\u001b[1;31m---------------------------------------------------------------------------\u001b[0m",
      "\u001b[1;31mModuleNotFoundError\u001b[0m                       Traceback (most recent call last)",
      "Cell \u001b[1;32mIn [25], line 1\u001b[0m\n\u001b[1;32m----> 1\u001b[0m \u001b[38;5;28;01mimport\u001b[39;00m \u001b[38;5;21;01mskimage\u001b[39;00m\n\u001b[0;32m      2\u001b[0m \u001b[38;5;28;01mimport\u001b[39;00m \u001b[38;5;21;01mnumpy\u001b[39;00m \u001b[38;5;28;01mas\u001b[39;00m \u001b[38;5;21;01mnp\u001b[39;00m\n\u001b[0;32m      3\u001b[0m \u001b[38;5;28;01mimport\u001b[39;00m \u001b[38;5;21;01mcv2\u001b[39;00m\n",
      "File \u001b[1;32m~\\AppData\\Local\\Programs\\Python\\Python310\\lib\\site-packages\\skimage\\__init__.py:128\u001b[0m\n\u001b[0;32m    125\u001b[0m     _raise_build_error(e)\n\u001b[0;32m    127\u001b[0m \u001b[38;5;66;03m# Legacy imports into the root namespace; not advertised in __all__\u001b[39;00m\n\u001b[1;32m--> 128\u001b[0m \u001b[38;5;28;01mfrom\u001b[39;00m \u001b[38;5;21;01m.\u001b[39;00m\u001b[38;5;21;01mutil\u001b[39;00m\u001b[38;5;21;01m.\u001b[39;00m\u001b[38;5;21;01mdtype\u001b[39;00m \u001b[38;5;28;01mimport\u001b[39;00m (\n\u001b[0;32m    129\u001b[0m     dtype_limits,\n\u001b[0;32m    130\u001b[0m     img_as_float32,\n\u001b[0;32m    131\u001b[0m     img_as_float64,\n\u001b[0;32m    132\u001b[0m     img_as_float,\n\u001b[0;32m    133\u001b[0m     img_as_int,\n\u001b[0;32m    134\u001b[0m     img_as_uint,\n\u001b[0;32m    135\u001b[0m     img_as_ubyte,\n\u001b[0;32m    136\u001b[0m     img_as_bool\n\u001b[0;32m    137\u001b[0m )\n\u001b[0;32m    139\u001b[0m \u001b[38;5;28;01mfrom\u001b[39;00m \u001b[38;5;21;01m.\u001b[39;00m\u001b[38;5;21;01mutil\u001b[39;00m\u001b[38;5;21;01m.\u001b[39;00m\u001b[38;5;21;01mlookfor\u001b[39;00m \u001b[38;5;28;01mimport\u001b[39;00m lookfor\n\u001b[0;32m    141\u001b[0m \u001b[38;5;28;01mfrom\u001b[39;00m \u001b[38;5;21;01m.\u001b[39;00m\u001b[38;5;21;01mdata\u001b[39;00m \u001b[38;5;28;01mimport\u001b[39;00m data_dir\n",
      "\u001b[1;31mModuleNotFoundError\u001b[0m: No module named 'skimage.util.dtype'"
     ]
    }
   ],
   "source": [
    "import skimage\n",
    "import numpy as np\n",
    "import cv2\n",
    "import time"
   ]
  },
  {
   "cell_type": "code",
   "execution_count": null,
   "id": "a4a6722a",
   "metadata": {},
   "outputs": [],
   "source": [
    "coffee = skimage.data.coffee()\n",
    "\n",
    "start = time.time()\n",
    "slic = skimage.segmentation.slic(coffee, compactness=20, n_segments=600, start_label=1)\n",
    "g = skimage.future.graph.rag_mean_color(coffee, slic, mode=\"similarity\")\n",
    "ncut = skimage.future.graph.cut_normalized(slic, g)  # 정규화 절단\n",
    "print(coffee.shape, \" Coffee 영상을 분할하는데 \", time.time() - start, \"초 소요\")\n",
    "\n",
    "marking = skimage.segmentation.mark_boundaries(coffee, ncut)\n",
    "ncut_coffee = np.uint8(marking * 255.0)\n",
    "\n",
    "cv2.imshow(\"Normalized cut\", cv2.cvtColor(ncut_coffee, cv2.COLOR_RGB2BGR))\n",
    "\n",
    "cv2.waitKey()\n",
    "cv2.destroyAllWindows()"
   ]
  }
 ],
 "metadata": {
  "kernelspec": {
   "display_name": "Python 3 (ipykernel)",
   "language": "python",
   "name": "python3"
  },
  "language_info": {
   "codemirror_mode": {
    "name": "ipython",
    "version": 3
   },
   "file_extension": ".py",
   "mimetype": "text/x-python",
   "name": "python",
   "nbconvert_exporter": "python",
   "pygments_lexer": "ipython3",
   "version": "3.10.7"
  }
 },
 "nbformat": 4,
 "nbformat_minor": 5
}
